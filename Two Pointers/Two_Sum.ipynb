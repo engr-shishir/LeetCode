{
  "nbformat": 4,
  "nbformat_minor": 0,
  "metadata": {
    "colab": {
      "provenance": [],
      "authorship_tag": "ABX9TyMDqfV6LlapLg5sao16icMV",
      "include_colab_link": true
    },
    "kernelspec": {
      "name": "python3",
      "display_name": "Python 3"
    },
    "language_info": {
      "name": "python"
    }
  },
  "cells": [
    {
      "cell_type": "markdown",
      "metadata": {
        "id": "view-in-github",
        "colab_type": "text"
      },
      "source": [
        "<a href=\"https://colab.research.google.com/github/engrshishir/LeetCode/blob/master/Two%20Pointers/Two_Sum.ipynb\" target=\"_parent\"><img src=\"https://colab.research.google.com/assets/colab-badge.svg\" alt=\"Open In Colab\"/></a>"
      ]
    },
    {
      "cell_type": "markdown",
      "source": [
        "# 🌸 Two Sum.\n",
        "📌 You **sort the array first**, and then use one pointer starting from the beginning and the other from the end of the array. <br>\n",
        "📌 If the sum of the elements at the two pointers is too small, move the left pointer to the right to increase the sum. <br>\n",
        "📌 If the sum is too large, move the right pointer to the left to decrease the sum. <br>\n",
        "📌 Repeat until you find the pair or the pointers meet."
      ],
      "metadata": {
        "id": "4PC38x7smH_u"
      }
    },
    {
      "cell_type": "code",
      "execution_count": null,
      "metadata": {
        "id": "8AfVbop5j4RL"
      },
      "outputs": [],
      "source": []
    }
  ]
}