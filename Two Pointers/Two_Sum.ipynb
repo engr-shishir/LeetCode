{
  "nbformat": 4,
  "nbformat_minor": 0,
  "metadata": {
    "colab": {
      "provenance": [],
      "authorship_tag": "ABX9TyMk5G+INCBqnKZ39JBOyYOe",
      "include_colab_link": true
    },
    "kernelspec": {
      "name": "python3",
      "display_name": "Python 3"
    },
    "language_info": {
      "name": "python"
    }
  },
  "cells": [
    {
      "cell_type": "markdown",
      "metadata": {
        "id": "view-in-github",
        "colab_type": "text"
      },
      "source": [
        "<a href=\"https://colab.research.google.com/github/engrshishir/LeetCode/blob/master/Two%20Pointers/Two_Sum.ipynb\" target=\"_parent\"><img src=\"https://colab.research.google.com/assets/colab-badge.svg\" alt=\"Open In Colab\"/></a>"
      ]
    },
    {
      "cell_type": "markdown",
      "source": [
        "# 🌸 Two Sum.\n"
      ],
      "metadata": {
        "id": "4PC38x7smH_u"
      }
    },
    {
      "cell_type": "markdown",
      "source": [
        "\n",
        "📌 https://leetcode.com/problems/two-sum/description/\n",
        "\n",
        "Given an array of **integers** nums and an integer target, return indices of the two numbers such that they add up to target. You may assume that each input would have exactly one solution, and you may not use the same element twice. You can return the answer in any order. **Only one valid answer exists**."
      ],
      "metadata": {
        "id": "2VrEzAbbrjdr"
      }
    },
    {
      "cell_type": "markdown",
      "source": [
        "Example 1:\n",
        "```cpp\n",
        "Input: nums = [2,7,11,15], target = 9\n",
        "Output: [0,1]\n",
        "Explanation: Because nums[0] + nums[1] == 9, we return [0, 1].\n",
        "```\n",
        "\n",
        "\n",
        "Example 2:\n",
        "```cpp\n",
        "Input: nums = [3,2,4], target = 6\n",
        "Output: [1,2]\n",
        "```\n",
        "\n",
        "Example 3:\n",
        "```cpp\n",
        "Input: nums = [3,3], target = 6\n",
        "Output: [0,1]\n",
        "```"
      ],
      "metadata": {
        "id": "FNRMqkvZrxsa"
      }
    },
    {
      "cell_type": "markdown",
      "source": [
        "Constraints:\n",
        "```cpp\n",
        "2 <= nums.length <= 104\n",
        "-109 <= nums[i] <= 109\n",
        "-109 <= target <= 109\n",
        "```\n"
      ],
      "metadata": {
        "id": "6kpUT-Jjsw7I"
      }
    },
    {
      "cell_type": "markdown",
      "source": [
        "# 📌 Algorithm\n"
      ],
      "metadata": {
        "id": "CwgM2u7urq9y"
      }
    },
    {
      "cell_type": "markdown",
      "source": [
        "📌 You **sort the array first**, and **then use one pointer starting from the beginning** and **the other from the end of the array**. <br>\n",
        "📌 If the *sum* of the elements at the two pointers is *too small*, *move the left pointer to the right* to increase the sum. <br>\n",
        "📌 If the *sum is too large*, *move the right pointer to the left* to decrease the sum. <br>\n",
        "📌 Repeat until you find the pair or the pointers meet.\n"
      ],
      "metadata": {
        "id": "LIzUH5Josg9t"
      }
    },
    {
      "cell_type": "markdown",
      "source": [
        "# 📌 Solved by (Two Pointers)"
      ],
      "metadata": {
        "id": "tEeMo0yEqR-1"
      }
    },
    {
      "cell_type": "code",
      "execution_count": 25,
      "metadata": {
        "id": "8AfVbop5j4RL",
        "colab": {
          "base_uri": "https://localhost:8080/"
        },
        "outputId": "fe90abec-6380-42e0-92b3-2322b5fed4eb"
      },
      "outputs": [
        {
          "output_type": "stream",
          "name": "stdout",
          "text": [
            "Overwriting two_sum.cpp\n"
          ]
        }
      ],
      "source": [
        "%%writefile two_sum.cpp\n",
        "#include <bits/stdc++.h>\n",
        "using namespace std;\n",
        "\n",
        "vector<int> twoSum(vector<int>& numsArray, const int& targetDigit) {\n",
        "    // Create a vector of pairs: {value, original index}\n",
        "    vector<pair<int, int>> numsWithIndices;\n",
        "    for (int i = 0; i < numsArray.size(); i++) {\n",
        "        numsWithIndices.push_back({numsArray[i], i});\n",
        "    }\n",
        "\n",
        "    // Now, the array is sorted by value, but we still have access to the original indices of each number.\n",
        "    sort(numsWithIndices.begin(), numsWithIndices.end());\n",
        "\n",
        "    int leftIndices = 0, rightIndices = numsWithIndices.size() - 1;\n",
        "\n",
        "    while (leftIndices < rightIndices) {\n",
        "        int currentSum = numsWithIndices[leftIndices].first + numsWithIndices[rightIndices].first;\n",
        "\n",
        "        if (currentSum == targetDigit) {\n",
        "            return vector<int>{numsWithIndices[leftIndices].second, numsWithIndices[rightIndices].second};\n",
        "        } else if (currentSum < targetDigit) {\n",
        "            leftIndices++;\n",
        "        } else {\n",
        "            rightIndices--;\n",
        "        }\n",
        "    }\n",
        "\n",
        "    return vector<int>{};\n",
        "}\n",
        "\n",
        "int main() {\n",
        "    vector<int> nums = {2, 4, 11, 1, 7};\n",
        "    int targetDigit = 9;\n",
        "\n",
        "    vector<int> result = twoSum(nums, targetDigit);\n",
        "\n",
        "    // Output the result\n",
        "    if (!result.empty()) {\n",
        "        cout << \"Indices: [\" << result[0] << \", \" << result[1] << \"]\" << endl;\n",
        "    } else {\n",
        "        cout << \"No solution found.\" << endl;\n",
        "    }\n",
        "\n",
        "    return 0;\n",
        "}\n"
      ]
    },
    {
      "cell_type": "code",
      "source": [
        "# Compile and run the code\n",
        "!g++ two_sum.cpp -o two_sum\n",
        "!./two_sum"
      ],
      "metadata": {
        "colab": {
          "base_uri": "https://localhost:8080/"
        },
        "id": "ux_nKpYvqIKX",
        "outputId": "59996a16-c6f8-4d63-e5c0-1701ad314185"
      },
      "execution_count": 26,
      "outputs": [
        {
          "output_type": "stream",
          "name": "stdout",
          "text": [
            "Indices: [0, 4]\n"
          ]
        }
      ]
    }
  ]
}